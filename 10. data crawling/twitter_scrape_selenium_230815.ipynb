{
 "cells": [
  {
   "cell_type": "code",
   "execution_count": 1,
   "id": "b0bdfdcb",
   "metadata": {},
   "outputs": [
    {
     "name": "stdout",
     "output_type": "stream",
     "text": [
      "Collecting selenium==4.10.0\n",
      "  Using cached selenium-4.10.0-py3-none-any.whl (6.7 MB)\n",
      "Requirement already satisfied: certifi>=2021.10.8 in c:\\users\\gyoungwon jeong\\anaconda3\\envs\\study\\lib\\site-packages (from selenium==4.10.0) (2022.12.7)\n",
      "Requirement already satisfied: trio-websocket~=0.9 in c:\\users\\gyoungwon jeong\\anaconda3\\envs\\study\\lib\\site-packages (from selenium==4.10.0) (0.9.2)\n",
      "Requirement already satisfied: trio~=0.17 in c:\\users\\gyoungwon jeong\\anaconda3\\envs\\study\\lib\\site-packages (from selenium==4.10.0) (0.22.0)\n",
      "Requirement already satisfied: urllib3[socks]<3,>=1.26 in c:\\users\\gyoungwon jeong\\anaconda3\\envs\\study\\lib\\site-packages (from selenium==4.10.0) (1.26.15)\n",
      "Requirement already satisfied: cffi>=1.14 in c:\\users\\gyoungwon jeong\\anaconda3\\envs\\study\\lib\\site-packages (from trio~=0.17->selenium==4.10.0) (1.15.1)\n",
      "Requirement already satisfied: sniffio in c:\\users\\gyoungwon jeong\\anaconda3\\envs\\study\\lib\\site-packages (from trio~=0.17->selenium==4.10.0) (1.3.0)\n",
      "Requirement already satisfied: sortedcontainers in c:\\users\\gyoungwon jeong\\anaconda3\\envs\\study\\lib\\site-packages (from trio~=0.17->selenium==4.10.0) (2.4.0)\n",
      "Requirement already satisfied: exceptiongroup>=1.0.0rc9 in c:\\users\\gyoungwon jeong\\anaconda3\\envs\\study\\lib\\site-packages (from trio~=0.17->selenium==4.10.0) (1.1.0)\n",
      "Requirement already satisfied: idna in c:\\users\\gyoungwon jeong\\anaconda3\\envs\\study\\lib\\site-packages (from trio~=0.17->selenium==4.10.0) (3.4)\n",
      "Requirement already satisfied: attrs>=19.2.0 in c:\\users\\gyoungwon jeong\\anaconda3\\envs\\study\\lib\\site-packages (from trio~=0.17->selenium==4.10.0) (22.2.0)\n",
      "Requirement already satisfied: async-generator>=1.9 in c:\\users\\gyoungwon jeong\\anaconda3\\envs\\study\\lib\\site-packages (from trio~=0.17->selenium==4.10.0) (1.10)\n",
      "Requirement already satisfied: outcome in c:\\users\\gyoungwon jeong\\anaconda3\\envs\\study\\lib\\site-packages (from trio~=0.17->selenium==4.10.0) (1.2.0)\n",
      "Requirement already satisfied: wsproto>=0.14 in c:\\users\\gyoungwon jeong\\anaconda3\\envs\\study\\lib\\site-packages (from trio-websocket~=0.9->selenium==4.10.0) (1.2.0)\n",
      "Requirement already satisfied: PySocks!=1.5.7,<2.0,>=1.5.6 in c:\\users\\gyoungwon jeong\\anaconda3\\envs\\study\\lib\\site-packages (from urllib3[socks]<3,>=1.26->selenium==4.10.0) (1.7.1)\n",
      "Requirement already satisfied: pycparser in c:\\users\\gyoungwon jeong\\anaconda3\\envs\\study\\lib\\site-packages (from cffi>=1.14->trio~=0.17->selenium==4.10.0) (2.21)\n",
      "Requirement already satisfied: h11<1,>=0.9.0 in c:\\users\\gyoungwon jeong\\anaconda3\\envs\\study\\lib\\site-packages (from wsproto>=0.14->trio-websocket~=0.9->selenium==4.10.0) (0.14.0)\n",
      "Installing collected packages: selenium\n",
      "  Attempting uninstall: selenium\n",
      "    Found existing installation: selenium 4.8.0\n",
      "    Uninstalling selenium-4.8.0:\n",
      "      Successfully uninstalled selenium-4.8.0\n",
      "Successfully installed selenium-4.10.0\n",
      "Note: you may need to restart the kernel to use updated packages.\n"
     ]
    }
   ],
   "source": [
    "pip install selenium==4.10.0"
   ]
  },
  {
   "cell_type": "code",
   "execution_count": 1,
   "id": "0fa516df",
   "metadata": {},
   "outputs": [
    {
     "name": "stderr",
     "output_type": "stream",
     "text": [
      "Error getting version of chromedriver 115. Retrying with chromedriver 114 (attempt 1/5)\n"
     ]
    },
    {
     "name": "stdout",
     "output_type": "stream",
     "text": [
      "['아무런 잘못', '#오펜하이머', '오펜하이머 - 크리스토퍼 놀란 감독 작품', 'Promoted by 유니버설 픽쳐스', 'Promoted by 유니버설 픽쳐스', '민규 면도컷', '지드래곤', '사건 당사자', '유노윤호', '당신의 19금 성향', '마스크걸', '요즘 20', '김규빈 기자님']\n",
      "['아무런 잘못 lang:ko until:2023-08-18 since:2023-08-17', '#오펜하이머 lang:ko until:2023-08-18 since:2023-08-17', '오펜하이머 - 크리스토퍼 놀란 감독 작품 lang:ko until:2023-08-18 since:2023-08-17', 'Promoted by 유니버설 픽쳐스 lang:ko until:2023-08-18 since:2023-08-17', 'Promoted by 유니버설 픽쳐스 lang:ko until:2023-08-18 since:2023-08-17', '민규 면도컷 lang:ko until:2023-08-18 since:2023-08-17', '지드래곤 lang:ko until:2023-08-18 since:2023-08-17', '사건 당사자 lang:ko until:2023-08-18 since:2023-08-17', '유노윤호 lang:ko until:2023-08-18 since:2023-08-17', '당신의 19금 성향 lang:ko until:2023-08-18 since:2023-08-17', '마스크걸 lang:ko until:2023-08-18 since:2023-08-17', '요즘 20 lang:ko until:2023-08-18 since:2023-08-17', '김규빈 기자님 lang:ko until:2023-08-18 since:2023-08-17']\n",
      "                                               content\n",
      "0    안녕하십니까.\\n사건 당사자입니다. 진지하게 사죄드립니다...\\n지난 8월 14일 ...\n",
      "1    @이거트훔하려고했는데\\n과연\\n내가아무런잘못을하지않았을까?\\n정말그누구도나한테상처받...\n",
      "2    Adhering to country-specific, evolving employm...\n",
      "3    안녕하세요. 우수짅입니다. 진지하게 사죄드립니다. 지난 8월 17일 오후 9시경 저...\n",
      "4    안녕하십니까.\\n사건 당사자입니다. 진지하게 사죄드립니다..\\n지난 8월 17일 오...\n",
      "..                                                 ...\n",
      "472  당신의 19금 성향은?\\n──────────────────\\nmedicrider님은...\n",
      "473  당신의 19금 성향은?\\n──────────────────\\n초기설정님은 정상인입니...\n",
      "474  당신의 19금 성향은?\\n──────────────────\\nㅇㅇㅇㅇ님은 재갈입니다...\n",
      "475  당신의 19금 성향은?\\n──────────────────\\n카미오카 유리님은 [검...\n",
      "476  당신의 19금 성향은?\\n──────────────────\\n애님은 돔입니다.\\nh...\n",
      "\n",
      "[477 rows x 1 columns]\n"
     ]
    }
   ],
   "source": [
    "from selenium import webdriver\n",
    "from selenium.webdriver.chrome.options import Options\n",
    "from selenium.webdriver.common.by import By\n",
    "from selenium.webdriver.common.keys import Keys \n",
    "import time \n",
    "import datetime\n",
    "import pandas as pd\n",
    "\n",
    "url = \"https://twitter.com\"\n",
    "\n",
    "options = Options()\n",
    "options.add_argument(\"--start-maximized\")\n",
    "\n",
    "driver = webdriver.Chrome(options=options)\n",
    "\n",
    "driver.get(url)\n",
    "\n",
    "driver.implicitly_wait(3) \n",
    "\n",
    "# 로그인\n",
    "login_button = driver.find_element(By.XPATH, \"//span[contains(text(), '로그인')]\")\n",
    "login_button.click()\n",
    "\n",
    "#아이디 비번 입력\n",
    "with open(r\"C:\\Users\\Gyoungwon Jeong\\Desktop\\sol_project_4\\10. data crawling\\twitter password.txt\", \"r\") as twitter_login:\n",
    "    lines = twitter_login.readlines()\n",
    "    id = lines[0].strip()\n",
    "    pw = lines[1].strip()\n",
    "    \n",
    "input_id = driver.find_element(By.XPATH, \"//input[@name='text']\") \n",
    "input_id.send_keys(id)\n",
    "input_id.send_keys(Keys.ENTER)\n",
    "\n",
    "input_pw = driver.find_element(By.XPATH, \"//input[@name='password']\")\n",
    "input_pw.send_keys(pw)\n",
    "input_pw.send_keys(Keys.ENTER)\n",
    "\n",
    "# 최신 트렌드 가져오기\n",
    "trends_for_you = driver.find_element(By.XPATH, \"//div[@aria-label='Timeline: Trending now']\")\n",
    "trend_for_you = trends_for_you.find_elements(By.XPATH, \".//span[contains(@class, 'css-901oao') and not(contains(text(), 'Trends')) and not(contains(text(), 'posts')) and not(contains(text(), 'Trending')) and not(contains(text(), 'Show'))]\")\n",
    "\n",
    "trends = []\n",
    "\n",
    "for trend in trend_for_you:\n",
    "    trends.append(trend.text)\n",
    "\n",
    "print(trends)\n",
    "\n",
    "#검색 쿼리 가져오기\n",
    "search_queries = []\n",
    "\n",
    "today_date = datetime.datetime.now()\n",
    "yesterday_date = today_date - datetime.timedelta(days=1)\n",
    "\n",
    "start_date = yesterday_date.strftime(\"%Y-%m-%d\")\n",
    "end_date = today_date.strftime(\"%Y-%m-%d\") \n",
    "\n",
    "for trend in trends:\n",
    "    search_query = trend + ' lang:ko ' + 'until:' + end_date + ' since:' + start_date\n",
    "    search_queries.append(search_query)\n",
    "\n",
    "print(search_queries)\n",
    "\n",
    "#검색어에 트렌드 검색\n",
    "input_search = driver.find_element(By.XPATH, \"//input[@aria-label='Search query']\")\n",
    "input_search.send_keys(search_queries[0])\n",
    "input_search.send_keys(Keys.ENTER) \n",
    "\n",
    "seen_tweets = set()\n",
    "tweet = []\n",
    "\n",
    "while True:\n",
    "    current_scroll_height = driver.execute_script(\"return document.documentElement.scrollHeight\") #현재 스크롤 높이\n",
    "    tweet_elements = driver.find_elements(By.XPATH, \"//div[@class='css-901oao r-18jsvk2 r-37j5jr r-a023e6 r-16dba41 r-rjixqe r-bcqeeo r-bnwqim r-qvutc0' and @data-testid='tweetText']\")\n",
    "    \n",
    "    for tweet_element in tweet_elements:\n",
    "        tweet_content = tweet_element.text.strip()\n",
    "        if tweet_content not in seen_tweets:\n",
    "            tweet.append(tweet_content) #현재 페이지 트윗 \n",
    "            seen_tweets.add(tweet_content) #축적 트윗\n",
    "    \n",
    "    #print(\"Current Page Tweets Count:\", len(tweet))\n",
    "    #print(\"Seen Tweets Count:\", len(seen_tweets))\n",
    "    \n",
    "    driver.execute_script(\"window.scrollTo(0, document.documentElement.scrollHeight);\") #스크롤 내리기\n",
    "    time.sleep(3)  # 콘텐츠 로딩 기다리기\n",
    "    new_scroll_height = driver.execute_script(\"return document.documentElement.scrollHeight\") #스크롤 내린 후 높이\n",
    "    if new_scroll_height == current_scroll_height:\n",
    "        break\n",
    "\n",
    "#트렌드 계속 하나씩 수집하기\n",
    "for search_query in search_queries[1:]:\n",
    "    input_search = driver.find_element(By.XPATH, \"//input[@data-testid='SearchBox_Search_Input']\")\n",
    "    # 검색 창 내용을 선택하고 지우기\n",
    "    input_search.send_keys(Keys.CONTROL + \"a\")\n",
    "    input_search.send_keys(Keys.DELETE)\n",
    "    input_search.send_keys(search_query)\n",
    "    input_search.send_keys(Keys.ENTER)\n",
    "    \n",
    "    while True:\n",
    "        current_scroll_height = driver.execute_script(\"return document.documentElement.scrollHeight\") #현재 스크롤 높이\n",
    "        tweet_elements = driver.find_elements(By.XPATH, \"//div[@class='css-901oao r-18jsvk2 r-37j5jr r-a023e6 r-16dba41 r-rjixqe r-bcqeeo r-bnwqim r-qvutc0' and @data-testid='tweetText']\")\n",
    "        \n",
    "        for tweet_element in tweet_elements:\n",
    "            tweet_content = tweet_element.text.strip()\n",
    "            if tweet_content not in seen_tweets:\n",
    "                tweet.append(tweet_content) #현재 페이지 트윗 \n",
    "                seen_tweets.add(tweet_content) #축적 트윗\n",
    "        \n",
    "        driver.execute_script(\"window.scrollTo(0, document.documentElement.scrollHeight);\") #스크롤 내리기\n",
    "        time.sleep(3)  # 콘텐츠 로딩 기다리기\n",
    "        new_scroll_height = driver.execute_script(\"return document.documentElement.scrollHeight\") #스크롤 내린 후 높이\n",
    "        if new_scroll_height == current_scroll_height:\n",
    "            break\n",
    "    \n",
    "# 데이터프레임에 넣기\n",
    "twitter_df = pd.DataFrame({'content':tweet})\n",
    "print(twitter_df)"
   ]
  },
  {
   "cell_type": "code",
   "execution_count": 7,
   "id": "a8421ace",
   "metadata": {},
   "outputs": [],
   "source": [
    "twitter_df.to_csv('확인용3')"
   ]
  },
  {
   "cell_type": "code",
   "execution_count": 10,
   "id": "9f97b9ca",
   "metadata": {},
   "outputs": [
    {
     "ename": "SyntaxError",
     "evalue": "(unicode error) 'unicodeescape' codec can't decode bytes in position 2-3: truncated \\UXXXXXXXX escape (3144549665.py, line 1)",
     "output_type": "error",
     "traceback": [
      "\u001b[1;36m  Cell \u001b[1;32mIn[10], line 1\u001b[1;36m\u001b[0m\n\u001b[1;33m    'C:\\Users\\Gyoungwon Jeong\\Desktop\\sol_project_4\\10. data crawling'\u001b[0m\n\u001b[1;37m                                                                      ^\u001b[0m\n\u001b[1;31mSyntaxError\u001b[0m\u001b[1;31m:\u001b[0m (unicode error) 'unicodeescape' codec can't decode bytes in position 2-3: truncated \\UXXXXXXXX escape\n"
     ]
    }
   ],
   "source": [
    "'C:\\Users\\Gyoungwon Jeong\\Desktop\\sol_project_4\\10. data crawling'"
   ]
  },
  {
   "cell_type": "code",
   "execution_count": 8,
   "id": "53d0c643",
   "metadata": {},
   "outputs": [
    {
     "name": "stdout",
     "output_type": "stream",
     "text": [
      "C:\\Users\\Gyoungwon Jeong\n"
     ]
    }
   ],
   "source": [
    "cd"
   ]
  },
  {
   "cell_type": "code",
   "execution_count": 11,
   "id": "10635a36",
   "metadata": {},
   "outputs": [],
   "source": [
    "twitter_df.to_csv('확인용5.csv')"
   ]
  },
  {
   "cell_type": "code",
   "execution_count": 15,
   "id": "c510266e",
   "metadata": {},
   "outputs": [],
   "source": [
    "df1 = pd.read_csv('C:/Users/Gyoungwon Jeong/Desktop/sol_project_4/10. data crawling/확인용3.csv')"
   ]
  },
  {
   "cell_type": "code",
   "execution_count": 16,
   "id": "cceaec4e",
   "metadata": {},
   "outputs": [],
   "source": [
    "df2 = pd.read_csv('C:/Users/Gyoungwon Jeong/Desktop/sol_project_4/10. data crawling/확인용2')"
   ]
  },
  {
   "cell_type": "code",
   "execution_count": 17,
   "id": "6bb0d7a8",
   "metadata": {},
   "outputs": [],
   "source": [
    "df3 = pd.read_csv('C:/Users/Gyoungwon Jeong/Desktop/sol_project_4/10. data crawling/확인용4.csv')"
   ]
  },
  {
   "cell_type": "code",
   "execution_count": 18,
   "id": "3dcda05a",
   "metadata": {},
   "outputs": [],
   "source": [
    "df4 = pd.read_csv('C:/Users/Gyoungwon Jeong/Desktop/sol_project_4/10. data crawling/확인용5.csv')"
   ]
  },
  {
   "cell_type": "code",
   "execution_count": 37,
   "id": "4d18a91a",
   "metadata": {},
   "outputs": [],
   "source": [
    "df = pd.concat([df1, df2, df3, df4], ignore_index=True)\n"
   ]
  },
  {
   "cell_type": "code",
   "execution_count": 41,
   "id": "74e09251",
   "metadata": {},
   "outputs": [],
   "source": [
    "df = df['content']"
   ]
  },
  {
   "cell_type": "code",
   "execution_count": 42,
   "id": "4aa65dc8",
   "metadata": {},
   "outputs": [
    {
     "data": {
      "text/plain": [
       "0                                         세븐틴 포카 전멤버 양도해요\n",
       "1       세븐틴 svt 도겸 포카 양도 sell 일괄 우대\\n\\n오드투유 캐럿랜드 트레카 멤...\n",
       "2       승관이 위버스에 댓글 단 멤버들\\n보고싶다고 해주면서도\\n슬픔이나 아쉬웠다는것 말고...\n",
       "3       솔직히 내가 세븐틴 몇년 좋아해오면서\\n제일 믿음가는 멤버 부승관이였음\\n그냥 이유...\n",
       "4       나 진짜 방금 승관이 글 보는 것도 멤버들 댓글 보는 것도 따뜻하다 정도만 인식했는...\n",
       "                              ...                        \n",
       "1674    당신의 19금 성향은?\\n──────────────────\\nmedicrider님은...\n",
       "1675    당신의 19금 성향은?\\n──────────────────\\n초기설정님은 정상인입니...\n",
       "1676    당신의 19금 성향은?\\n──────────────────\\nㅇㅇㅇㅇ님은 재갈입니다...\n",
       "1677    당신의 19금 성향은?\\n──────────────────\\n카미오카 유리님은 [검...\n",
       "1678    당신의 19금 성향은?\\n──────────────────\\n애님은 돔입니다.\\nh...\n",
       "Name: content, Length: 1679, dtype: object"
      ]
     },
     "execution_count": 42,
     "metadata": {},
     "output_type": "execute_result"
    }
   ],
   "source": [
    "df"
   ]
  },
  {
   "cell_type": "code",
   "execution_count": 43,
   "id": "1d925a61",
   "metadata": {},
   "outputs": [],
   "source": [
    "df.to_csv('sample_tweets.csv')"
   ]
  }
 ],
 "metadata": {
  "kernelspec": {
   "display_name": "Python 3 (ipykernel)",
   "language": "python",
   "name": "python3"
  },
  "language_info": {
   "codemirror_mode": {
    "name": "ipython",
    "version": 3
   },
   "file_extension": ".py",
   "mimetype": "text/x-python",
   "name": "python",
   "nbconvert_exporter": "python",
   "pygments_lexer": "ipython3",
   "version": "3.10.9"
  }
 },
 "nbformat": 4,
 "nbformat_minor": 5
}
